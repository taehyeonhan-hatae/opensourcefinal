{
 "cells": [
  {
   "cell_type": "code",
   "execution_count": 2,
   "metadata": {},
   "outputs": [],
   "source": [
    "import requests\n",
    "url = \"https://www.kaggle.com/datasets/carlmcbrideellis/llm-7-prompt-training-dataset/\"\n",
    "response = requests.get(url)"
   ]
  },
  {
   "cell_type": "code",
   "execution_count": 3,
   "metadata": {},
   "outputs": [],
   "source": [
    "from bs4 import BeautifulSoup\n",
    "soup= BeautifulSoup(response.text, 'html.parser')"
   ]
  },
  {
   "cell_type": "code",
   "execution_count": null,
   "metadata": {},
   "outputs": [],
   "source": [
    "file_url=soup.find"
   ]
  },
  {
   "cell_type": "code",
   "execution_count": 26,
   "metadata": {},
   "outputs": [],
   "source": [
    "# from selenium import webdriver\n",
    "# import time\n",
    "# from selenium.webdriver.chrome.service import Service\n",
    "# from selenium.webdriver.chrome.options import Options\n",
    "# s=Service(\"C:/Users/gksxo/Downloads/chromedriver-win64/chromedriver-win64/chromedriver.exe\")\n",
    "# options = Options()\n",
    "# driver = webdriver.Chrome(service=s, options=options)\n",
    "# WebDriver 경로 설정\n",
    "# driver = webdriver.Chrome(\"C:/Users/gksxo/Downloads/chromedriver_win32 (1)/chromedriver.exe\")\n",
    "\n",
    "# 웹 페이지 접근\n",
    "# url = 'https://www.kaggle.com/account/login?phase=emailSignIn&returnUrl=%2F'\n",
    "# driver.get(url)\n",
    " # *[@id=\"site-content\"]/div[2]/div/div/div[2]/div[1]/div/a/button/i/font/font\n",
    " # //*[@id=\"site-content\"]/div[2]/div/div/div[2]/div[1]/div/a/button\n",
    "#로그인이 필요한 경우 아래 코드 활성화\n",
    "#driver.find_element_by_xpath(\"//button[@data-testid='headerSignInButton']\").click()\n",
    "#time.sleep(2)  # 로딩 대기\n",
    "#driver.find_element_by_xpath(\"//input[@name='username']\").send_keys('id')\n",
    "#driver.find_element_by_xpath(\"//input[@name='password']\").send_keys('pw')\n",
    "#driver.find_element_by_xpath(\"//button[@data-testid='signInSubmit']\").click()\n",
    "#time.sleep(2)  # 로딩 대기\n",
    "\n",
    "# 파일 다운로드 버튼 클릭\n",
    "#download_btn = driver.find_element_by_xpath(\"//button[@class='sc-hjsqBZ bQkJuY sc-iiBYEw hcSHvu']\")\n",
    "#download_btn.click()\n",
    "\n",
    "# WebDriver 종료\n",
    "#driver.quit()\n"
   ]
  },
  {
   "cell_type": "code",
   "execution_count": 2,
   "metadata": {},
   "outputs": [],
   "source": [
    "import pandas as pd\n",
    "import numpy as np"
   ]
  },
  {
   "cell_type": "code",
   "execution_count": 3,
   "metadata": {},
   "outputs": [],
   "source": [
    "import os\n",
    "from kaggle.api.kaggle_api_extended import KaggleApi\n",
    "\n",
    "api = KaggleApi()\n",
    "api.authenticate()\n",
    "\n",
    "a=api.dataset_download_files('carlmcbrideellis/llm-7-prompt-training-dataset')\n",
    "# os.system(\"unzip -v C:/Users/gksxo/Desktop/2023학년도 2학기/오픈소스-조겨리 교수님/기말프로젝트/llm-7-prompt-training-dataset.zip\")\n",
    "\n",
    "import zipfile\n",
    "\n",
    "zip_path = 'C:/Users/gksxo/Desktop/2023학년도 2학기/오픈소스-조겨리 교수님/기말프로젝트/llm-7-prompt-training-dataset.zip'  # 압축 파일 경로\n",
    "extract_path = 'C:/Users/gksxo/Desktop/2023학년도 2학기/오픈소스-조겨리 교수님/기말프로젝트'  # 압축 해제 경로\n",
    "\n",
    "with zipfile.ZipFile(zip_path, 'r') as zip_ref:\n",
    "    zip_ref.extractall(extract_path)\n"
   ]
  },
  {
   "cell_type": "code",
   "execution_count": 4,
   "metadata": {},
   "outputs": [
    {
     "data": {
      "text/html": [
       "<div>\n",
       "<style scoped>\n",
       "    .dataframe tbody tr th:only-of-type {\n",
       "        vertical-align: middle;\n",
       "    }\n",
       "\n",
       "    .dataframe tbody tr th {\n",
       "        vertical-align: top;\n",
       "    }\n",
       "\n",
       "    .dataframe thead th {\n",
       "        text-align: right;\n",
       "    }\n",
       "</style>\n",
       "<table border=\"1\" class=\"dataframe\">\n",
       "  <thead>\n",
       "    <tr style=\"text-align: right;\">\n",
       "      <th></th>\n",
       "      <th>text</th>\n",
       "      <th>label</th>\n",
       "    </tr>\n",
       "  </thead>\n",
       "  <tbody>\n",
       "    <tr>\n",
       "      <th>0</th>\n",
       "      <td>Cars. Cars have been around since they became ...</td>\n",
       "      <td>0</td>\n",
       "    </tr>\n",
       "    <tr>\n",
       "      <th>1</th>\n",
       "      <td>Transportation is a large necessity in most co...</td>\n",
       "      <td>0</td>\n",
       "    </tr>\n",
       "    <tr>\n",
       "      <th>2</th>\n",
       "      <td>\"America's love affair with it's vehicles seem...</td>\n",
       "      <td>0</td>\n",
       "    </tr>\n",
       "    <tr>\n",
       "      <th>3</th>\n",
       "      <td>How often do you ride in a car? Do you drive a...</td>\n",
       "      <td>0</td>\n",
       "    </tr>\n",
       "    <tr>\n",
       "      <th>4</th>\n",
       "      <td>Cars are a wonderful thing. They are perhaps o...</td>\n",
       "      <td>0</td>\n",
       "    </tr>\n",
       "  </tbody>\n",
       "</table>\n",
       "</div>"
      ],
      "text/plain": [
       "                                                text  label\n",
       "0  Cars. Cars have been around since they became ...      0\n",
       "1  Transportation is a large necessity in most co...      0\n",
       "2  \"America's love affair with it's vehicles seem...      0\n",
       "3  How often do you ride in a car? Do you drive a...      0\n",
       "4  Cars are a wonderful thing. They are perhaps o...      0"
      ]
     },
     "execution_count": 4,
     "metadata": {},
     "output_type": "execute_result"
    }
   ],
   "source": [
    "prompt=pd.read_csv(\"C:/Users/gksxo/Desktop/2023학년도 2학기/오픈소스-조겨리 교수님/기말프로젝트/train_essays_7_prompts_v2.csv\")\n",
    "prompt.head()"
   ]
  },
  {
   "cell_type": "code",
   "execution_count": 5,
   "metadata": {},
   "outputs": [
    {
     "data": {
      "text/plain": [
       "text     15350\n",
       "label    15350\n",
       "dtype: int64"
      ]
     },
     "execution_count": 5,
     "metadata": {},
     "output_type": "execute_result"
    }
   ],
   "source": [
    "prompt.count()"
   ]
  },
  {
   "cell_type": "code",
   "execution_count": 7,
   "metadata": {},
   "outputs": [
    {
     "name": "stdout",
     "output_type": "stream",
     "text": [
      "<class 'pandas.core.frame.DataFrame'>\n",
      "RangeIndex: 15350 entries, 0 to 15349\n",
      "Data columns (total 2 columns):\n",
      " #   Column  Non-Null Count  Dtype \n",
      "---  ------  --------------  ----- \n",
      " 0   text    15350 non-null  object\n",
      " 1   label   15350 non-null  int64 \n",
      "dtypes: int64(1), object(1)\n",
      "memory usage: 240.0+ KB\n"
     ]
    }
   ],
   "source": [
    "prompt.info()"
   ]
  },
  {
   "cell_type": "code",
   "execution_count": 8,
   "metadata": {},
   "outputs": [
    {
     "data": {
      "text/html": [
       "<div>\n",
       "<style scoped>\n",
       "    .dataframe tbody tr th:only-of-type {\n",
       "        vertical-align: middle;\n",
       "    }\n",
       "\n",
       "    .dataframe tbody tr th {\n",
       "        vertical-align: top;\n",
       "    }\n",
       "\n",
       "    .dataframe thead th {\n",
       "        text-align: right;\n",
       "    }\n",
       "</style>\n",
       "<table border=\"1\" class=\"dataframe\">\n",
       "  <thead>\n",
       "    <tr style=\"text-align: right;\">\n",
       "      <th></th>\n",
       "      <th>label</th>\n",
       "    </tr>\n",
       "  </thead>\n",
       "  <tbody>\n",
       "    <tr>\n",
       "      <th>count</th>\n",
       "      <td>15350.000000</td>\n",
       "    </tr>\n",
       "    <tr>\n",
       "      <th>mean</th>\n",
       "      <td>0.106710</td>\n",
       "    </tr>\n",
       "    <tr>\n",
       "      <th>std</th>\n",
       "      <td>0.308754</td>\n",
       "    </tr>\n",
       "    <tr>\n",
       "      <th>min</th>\n",
       "      <td>0.000000</td>\n",
       "    </tr>\n",
       "    <tr>\n",
       "      <th>25%</th>\n",
       "      <td>0.000000</td>\n",
       "    </tr>\n",
       "    <tr>\n",
       "      <th>50%</th>\n",
       "      <td>0.000000</td>\n",
       "    </tr>\n",
       "    <tr>\n",
       "      <th>75%</th>\n",
       "      <td>0.000000</td>\n",
       "    </tr>\n",
       "    <tr>\n",
       "      <th>max</th>\n",
       "      <td>1.000000</td>\n",
       "    </tr>\n",
       "  </tbody>\n",
       "</table>\n",
       "</div>"
      ],
      "text/plain": [
       "              label\n",
       "count  15350.000000\n",
       "mean       0.106710\n",
       "std        0.308754\n",
       "min        0.000000\n",
       "25%        0.000000\n",
       "50%        0.000000\n",
       "75%        0.000000\n",
       "max        1.000000"
      ]
     },
     "execution_count": 8,
     "metadata": {},
     "output_type": "execute_result"
    }
   ],
   "source": [
    "prompt.describe()"
   ]
  },
  {
   "cell_type": "code",
   "execution_count": 9,
   "metadata": {},
   "outputs": [],
   "source": [
    "import sklearn"
   ]
  },
  {
   "cell_type": "code",
   "execution_count": 11,
   "metadata": {},
   "outputs": [
    {
     "data": {
      "text/plain": [
       "<pandas.core.groupby.generic.DataFrameGroupBy object at 0x0000020CADFCAA10>"
      ]
     },
     "execution_count": 11,
     "metadata": {},
     "output_type": "execute_result"
    }
   ],
   "source": [
    "prompt.groupby(\"label\")"
   ]
  },
  {
   "cell_type": "code",
   "execution_count": 12,
   "metadata": {},
   "outputs": [
    {
     "ename": "ModuleNotFoundError",
     "evalue": "No module named 'torch'",
     "output_type": "error",
     "traceback": [
      "\u001b[1;31m---------------------------------------------------------------------------\u001b[0m",
      "\u001b[1;31mModuleNotFoundError\u001b[0m                       Traceback (most recent call last)",
      "\u001b[1;32mc:\\Users\\gksxo\\Desktop\\2023학년도 2학기\\오픈소스-조겨리 교수님\\LLM_DETECT.ipynb Cell 13\u001b[0m line \u001b[0;36m1\n\u001b[1;32m----> <a href='vscode-notebook-cell:/c%3A/Users/gksxo/Desktop/2023%ED%95%99%EB%85%84%EB%8F%84%202%ED%95%99%EA%B8%B0/%EC%98%A4%ED%94%88%EC%86%8C%EC%8A%A4-%EC%A1%B0%EA%B2%A8%EB%A6%AC%20%EA%B5%90%EC%88%98%EB%8B%98/LLM_DETECT.ipynb#X20sZmlsZQ%3D%3D?line=0'>1</a>\u001b[0m \u001b[39mimport\u001b[39;00m \u001b[39mtorch\u001b[39;00m\n\u001b[0;32m      <a href='vscode-notebook-cell:/c%3A/Users/gksxo/Desktop/2023%ED%95%99%EB%85%84%EB%8F%84%202%ED%95%99%EA%B8%B0/%EC%98%A4%ED%94%88%EC%86%8C%EC%8A%A4-%EC%A1%B0%EA%B2%A8%EB%A6%AC%20%EA%B5%90%EC%88%98%EB%8B%98/LLM_DETECT.ipynb#X20sZmlsZQ%3D%3D?line=1'>2</a>\u001b[0m \u001b[39mprint\u001b[39m(torch\u001b[39m.\u001b[39mversion\u001b[39m.\u001b[39mcuda)\n",
      "\u001b[1;31mModuleNotFoundError\u001b[0m: No module named 'torch'"
     ]
    }
   ],
   "source": [
    "import re, string\n",
    "import nltk\n",
    "from nltk.tokenize import word_tokenize\n",
    "from nltk.corpus import stopwords\n",
    "from nltk.tokenize import word_tokenize\n",
    "from nltk.stem import SnowballStemmer\n",
    "from nltk.corpus import wordnet\n",
    "from nltk.stem import WordNetLemmatizer"
   ]
  }
 ],
 "metadata": {
  "kernelspec": {
   "display_name": "Python 3",
   "language": "python",
   "name": "python3"
  },
  "language_info": {
   "codemirror_mode": {
    "name": "ipython",
    "version": 3
   },
   "file_extension": ".py",
   "mimetype": "text/x-python",
   "name": "python",
   "nbconvert_exporter": "python",
   "pygments_lexer": "ipython3",
   "version": "3.11.1"
  }
 },
 "nbformat": 4,
 "nbformat_minor": 2
}
