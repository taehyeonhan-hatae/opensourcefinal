{
 "cells": [
  {
   "cell_type": "code",
   "execution_count": 1,
   "metadata": {},
   "outputs": [],
   "source": [
    "import pandas as pd\n",
    "import numpy as np"
   ]
  },
  {
   "cell_type": "code",
   "execution_count": 2,
   "metadata": {},
   "outputs": [],
   "source": [
    "import os\n",
    "from kaggle.api.kaggle_api_extended import KaggleApi\n",
    "\n",
    "api = KaggleApi()\n",
    "api.authenticate()\n",
    "\n",
    "a=api.dataset_download_files('carlmcbrideellis/llm-7-prompt-training-dataset')\n",
    "# KaggleApi를 통해 carlmbrideellis/llm-7-prompt-training-dataset을 불러온다.\n",
    "# url: https://www.kaggle.com/datasets/carlmcbrideellis/llm-7-prompt-training-dataset\n",
    "\n",
    "import zipfile\n",
    "\n",
    "zip_path = 'C:/Users/gksxo/Desktop/2023학년도 2학기/오픈소스-조겨리 교수님/기말프로젝트/llm-7-prompt-training-dataset.zip'  # 압축 파일 경로\n",
    "extract_path = 'C:/Users/gksxo/Desktop/2023학년도 2학기/오픈소스-조겨리 교수님/기말프로젝트'  # 압축 해제 경로\n",
    "\n",
    "with zipfile.ZipFile(zip_path, 'r') as zip_ref:\n",
    "    zip_ref.extractall(extract_path)\n"
   ]
  },
  {
   "cell_type": "code",
   "execution_count": 3,
   "metadata": {},
   "outputs": [
    {
     "name": "stdout",
     "output_type": "stream",
     "text": [
      "(15350, 2)\n"
     ]
    },
    {
     "data": {
      "text/html": [
       "<div>\n",
       "<style scoped>\n",
       "    .dataframe tbody tr th:only-of-type {\n",
       "        vertical-align: middle;\n",
       "    }\n",
       "\n",
       "    .dataframe tbody tr th {\n",
       "        vertical-align: top;\n",
       "    }\n",
       "\n",
       "    .dataframe thead th {\n",
       "        text-align: right;\n",
       "    }\n",
       "</style>\n",
       "<table border=\"1\" class=\"dataframe\">\n",
       "  <thead>\n",
       "    <tr style=\"text-align: right;\">\n",
       "      <th></th>\n",
       "      <th>text</th>\n",
       "      <th>label</th>\n",
       "    </tr>\n",
       "  </thead>\n",
       "  <tbody>\n",
       "    <tr>\n",
       "      <th>0</th>\n",
       "      <td>Cars. Cars have been around since they became ...</td>\n",
       "      <td>0</td>\n",
       "    </tr>\n",
       "    <tr>\n",
       "      <th>1</th>\n",
       "      <td>Transportation is a large necessity in most co...</td>\n",
       "      <td>0</td>\n",
       "    </tr>\n",
       "    <tr>\n",
       "      <th>2</th>\n",
       "      <td>\"America's love affair with it's vehicles seem...</td>\n",
       "      <td>0</td>\n",
       "    </tr>\n",
       "    <tr>\n",
       "      <th>3</th>\n",
       "      <td>How often do you ride in a car? Do you drive a...</td>\n",
       "      <td>0</td>\n",
       "    </tr>\n",
       "    <tr>\n",
       "      <th>4</th>\n",
       "      <td>Cars are a wonderful thing. They are perhaps o...</td>\n",
       "      <td>0</td>\n",
       "    </tr>\n",
       "  </tbody>\n",
       "</table>\n",
       "</div>"
      ],
      "text/plain": [
       "                                                text  label\n",
       "0  Cars. Cars have been around since they became ...      0\n",
       "1  Transportation is a large necessity in most co...      0\n",
       "2  \"America's love affair with it's vehicles seem...      0\n",
       "3  How often do you ride in a car? Do you drive a...      0\n",
       "4  Cars are a wonderful thing. They are perhaps o...      0"
      ]
     },
     "execution_count": 3,
     "metadata": {},
     "output_type": "execute_result"
    }
   ],
   "source": [
    "prompt=pd.read_csv(\"C:/Users/gksxo/Desktop/2023학년도 2학기/오픈소스-조겨리 교수님/기말프로젝트/train_essays_7_prompts_v2.csv\")\n",
    "print(prompt.shape)\n",
    "prompt.head()"
   ]
  },
  {
   "cell_type": "code",
   "execution_count": 4,
   "metadata": {},
   "outputs": [
    {
     "data": {
      "text/plain": [
       "text     0\n",
       "label    0\n",
       "dtype: int64"
      ]
     },
     "execution_count": 4,
     "metadata": {},
     "output_type": "execute_result"
    }
   ],
   "source": [
    "prompt.isna().sum()"
   ]
  },
  {
   "cell_type": "code",
   "execution_count": 5,
   "metadata": {},
   "outputs": [
    {
     "data": {
      "text/html": [
       "<div>\n",
       "<style scoped>\n",
       "    .dataframe tbody tr th:only-of-type {\n",
       "        vertical-align: middle;\n",
       "    }\n",
       "\n",
       "    .dataframe tbody tr th {\n",
       "        vertical-align: top;\n",
       "    }\n",
       "\n",
       "    .dataframe thead th {\n",
       "        text-align: right;\n",
       "    }\n",
       "</style>\n",
       "<table border=\"1\" class=\"dataframe\">\n",
       "  <thead>\n",
       "    <tr style=\"text-align: right;\">\n",
       "      <th></th>\n",
       "      <th>label</th>\n",
       "    </tr>\n",
       "  </thead>\n",
       "  <tbody>\n",
       "    <tr>\n",
       "      <th>count</th>\n",
       "      <td>15350.000000</td>\n",
       "    </tr>\n",
       "    <tr>\n",
       "      <th>mean</th>\n",
       "      <td>0.106710</td>\n",
       "    </tr>\n",
       "    <tr>\n",
       "      <th>std</th>\n",
       "      <td>0.308754</td>\n",
       "    </tr>\n",
       "    <tr>\n",
       "      <th>min</th>\n",
       "      <td>0.000000</td>\n",
       "    </tr>\n",
       "    <tr>\n",
       "      <th>25%</th>\n",
       "      <td>0.000000</td>\n",
       "    </tr>\n",
       "    <tr>\n",
       "      <th>50%</th>\n",
       "      <td>0.000000</td>\n",
       "    </tr>\n",
       "    <tr>\n",
       "      <th>75%</th>\n",
       "      <td>0.000000</td>\n",
       "    </tr>\n",
       "    <tr>\n",
       "      <th>max</th>\n",
       "      <td>1.000000</td>\n",
       "    </tr>\n",
       "  </tbody>\n",
       "</table>\n",
       "</div>"
      ],
      "text/plain": [
       "              label\n",
       "count  15350.000000\n",
       "mean       0.106710\n",
       "std        0.308754\n",
       "min        0.000000\n",
       "25%        0.000000\n",
       "50%        0.000000\n",
       "75%        0.000000\n",
       "max        1.000000"
      ]
     },
     "execution_count": 5,
     "metadata": {},
     "output_type": "execute_result"
    }
   ],
   "source": [
    "prompt.describe()"
   ]
  },
  {
   "cell_type": "code",
   "execution_count": 6,
   "metadata": {},
   "outputs": [
    {
     "data": {
      "text/html": [
       "<div>\n",
       "<style scoped>\n",
       "    .dataframe tbody tr th:only-of-type {\n",
       "        vertical-align: middle;\n",
       "    }\n",
       "\n",
       "    .dataframe tbody tr th {\n",
       "        vertical-align: top;\n",
       "    }\n",
       "\n",
       "    .dataframe thead th {\n",
       "        text-align: right;\n",
       "    }\n",
       "</style>\n",
       "<table border=\"1\" class=\"dataframe\">\n",
       "  <thead>\n",
       "    <tr style=\"text-align: right;\">\n",
       "      <th></th>\n",
       "      <th>text</th>\n",
       "    </tr>\n",
       "    <tr>\n",
       "      <th>label</th>\n",
       "      <th></th>\n",
       "    </tr>\n",
       "  </thead>\n",
       "  <tbody>\n",
       "    <tr>\n",
       "      <th>0</th>\n",
       "      <td>13712</td>\n",
       "    </tr>\n",
       "    <tr>\n",
       "      <th>1</th>\n",
       "      <td>1638</td>\n",
       "    </tr>\n",
       "  </tbody>\n",
       "</table>\n",
       "</div>"
      ],
      "text/plain": [
       "        text\n",
       "label       \n",
       "0      13712\n",
       "1       1638"
      ]
     },
     "execution_count": 6,
     "metadata": {},
     "output_type": "execute_result"
    }
   ],
   "source": [
    "a=prompt.groupby(\"label\")\n",
    "a.count() # count method 사용 - 메소드 1가지 사용"
   ]
  },
  {
   "cell_type": "markdown",
   "metadata": {},
   "source": [
    "# NOTICE!\n",
    "##### 0과 1으로 구분한 내용에 대하여는 text이기 때문에 describe, info, mean 등의 수치해석의 method를 사용할 수 없음 -> 따라서 텍스트에 대한 단어 수, 문자 수, 독특한 단어 수를 확인함"
   ]
  },
  {
   "cell_type": "code",
   "execution_count": 7,
   "metadata": {},
   "outputs": [],
   "source": [
    "# 라벨이 0인 텍스트만 필터링하여 저장\n",
    "text_0 = prompt[prompt['label'] == 0]\n",
    "\n",
    "# 라벨이 1인 텍스트만 필터링하여 저장\n",
    "text_1 = prompt[prompt['label'] == 1]"
   ]
  },
  {
   "cell_type": "code",
   "execution_count": 8,
   "metadata": {},
   "outputs": [
    {
     "name": "stdout",
     "output_type": "stream",
     "text": [
      "416.8986289381564\n",
      "2335.516554842474\n"
     ]
    },
    {
     "name": "stderr",
     "output_type": "stream",
     "text": [
      "C:\\Users\\gksxo\\AppData\\Local\\Temp\\ipykernel_30088\\2543219456.py:3: SettingWithCopyWarning: \n",
      "A value is trying to be set on a copy of a slice from a DataFrame.\n",
      "Try using .loc[row_indexer,col_indexer] = value instead\n",
      "\n",
      "See the caveats in the documentation: https://pandas.pydata.org/pandas-docs/stable/user_guide/indexing.html#returning-a-view-versus-a-copy\n",
      "  text_0['word_count'] = text_0['text'].apply(lambda x: len(str(x).split()))\n",
      "C:\\Users\\gksxo\\AppData\\Local\\Temp\\ipykernel_30088\\2543219456.py:8: SettingWithCopyWarning: \n",
      "A value is trying to be set on a copy of a slice from a DataFrame.\n",
      "Try using .loc[row_indexer,col_indexer] = value instead\n",
      "\n",
      "See the caveats in the documentation: https://pandas.pydata.org/pandas-docs/stable/user_guide/indexing.html#returning-a-view-versus-a-copy\n",
      "  text_0['char_count'] = text_0['text'].apply(lambda x: len(str(x)))\n"
     ]
    },
    {
     "name": "stdout",
     "output_type": "stream",
     "text": [
      "208.16766336056008\n"
     ]
    },
    {
     "name": "stderr",
     "output_type": "stream",
     "text": [
      "C:\\Users\\gksxo\\AppData\\Local\\Temp\\ipykernel_30088\\2543219456.py:13: SettingWithCopyWarning: \n",
      "A value is trying to be set on a copy of a slice from a DataFrame.\n",
      "Try using .loc[row_indexer,col_indexer] = value instead\n",
      "\n",
      "See the caveats in the documentation: https://pandas.pydata.org/pandas-docs/stable/user_guide/indexing.html#returning-a-view-versus-a-copy\n",
      "  text_0['unique_word_count'] = text_0['text'].apply(lambda x: len(set(str(x).split())))\n"
     ]
    }
   ],
   "source": [
    "#라벨이 0인 텍스트에 대하여 단어 수, 문자 수, 독특한 단어 수 확인\n",
    "#1. 단어 수\n",
    "text_0['word_count'] = text_0['text'].apply(lambda x: len(str(x).split()))\n",
    "print(text_0[text_0['label']==0]['word_count'].mean()) #Non-Disaster tweets\n",
    "#Disaster tweets are more wordy than the non-disaster tweets\n",
    "\n",
    "#2. 문자 수\n",
    "text_0['char_count'] = text_0['text'].apply(lambda x: len(str(x)))\n",
    "print(text_0[text_0['label']==0]['char_count'].mean()) #Non-Disaster tweets\n",
    "#Disaster tweets are longer than the non-disaster tweets\n",
    "\n",
    "#3. 독특한 단어 수\n",
    "text_0['unique_word_count'] = text_0['text'].apply(lambda x: len(set(str(x).split())))\n",
    "print(text_0[text_0['label']==0]['unique_word_count'].mean()) #Non-Disaster tweets"
   ]
  },
  {
   "cell_type": "code",
   "execution_count": 9,
   "metadata": {},
   "outputs": [
    {
     "name": "stdout",
     "output_type": "stream",
     "text": [
      "407.523199023199\n",
      "2638.7240537240536\n",
      "222.22649572649573\n"
     ]
    },
    {
     "name": "stderr",
     "output_type": "stream",
     "text": [
      "C:\\Users\\gksxo\\AppData\\Local\\Temp\\ipykernel_30088\\1995270096.py:3: SettingWithCopyWarning: \n",
      "A value is trying to be set on a copy of a slice from a DataFrame.\n",
      "Try using .loc[row_indexer,col_indexer] = value instead\n",
      "\n",
      "See the caveats in the documentation: https://pandas.pydata.org/pandas-docs/stable/user_guide/indexing.html#returning-a-view-versus-a-copy\n",
      "  text_1['word_count'] = text_1['text'].apply(lambda x: len(str(x).split()))\n",
      "C:\\Users\\gksxo\\AppData\\Local\\Temp\\ipykernel_30088\\1995270096.py:8: SettingWithCopyWarning: \n",
      "A value is trying to be set on a copy of a slice from a DataFrame.\n",
      "Try using .loc[row_indexer,col_indexer] = value instead\n",
      "\n",
      "See the caveats in the documentation: https://pandas.pydata.org/pandas-docs/stable/user_guide/indexing.html#returning-a-view-versus-a-copy\n",
      "  text_1['char_count'] = text_1['text'].apply(lambda x: len(str(x)))\n",
      "C:\\Users\\gksxo\\AppData\\Local\\Temp\\ipykernel_30088\\1995270096.py:13: SettingWithCopyWarning: \n",
      "A value is trying to be set on a copy of a slice from a DataFrame.\n",
      "Try using .loc[row_indexer,col_indexer] = value instead\n",
      "\n",
      "See the caveats in the documentation: https://pandas.pydata.org/pandas-docs/stable/user_guide/indexing.html#returning-a-view-versus-a-copy\n",
      "  text_1['unique_word_count'] = text_1['text'].apply(lambda x: len(set(str(x).split())))\n"
     ]
    }
   ],
   "source": [
    "#라벨이 1인 텍스트에 대하여 단어 수, 문자 수, 독특한 단어 수 확인\n",
    "#1. 단어 수\n",
    "text_1['word_count'] = text_1['text'].apply(lambda x: len(str(x).split()))\n",
    "print(text_1[text_1['label']==1]['word_count'].mean()) #Disaster tweets\n",
    "#Disaster tweets are more wordy than the non-disaster tweets\n",
    "\n",
    "#2. 문자 수\n",
    "text_1['char_count'] = text_1['text'].apply(lambda x: len(str(x)))\n",
    "print(text_1[text_1['label']==1]['char_count'].mean()) #Disaster tweets\n",
    "#Disaster tweets are longer than the non-disaster tweets\n",
    "\n",
    "#3. 독특한 단어 수\n",
    "text_1['unique_word_count'] = text_1['text'].apply(lambda x: len(set(str(x).split())))\n",
    "print(text_1[text_1['label']==1]['unique_word_count'].mean()) #Disaster tweets"
   ]
  },
  {
   "cell_type": "markdown",
   "metadata": {},
   "source": [
    "# MODULE IMPORT"
   ]
  },
  {
   "cell_type": "code",
   "execution_count": 10,
   "metadata": {},
   "outputs": [
    {
     "name": "stderr",
     "output_type": "stream",
     "text": [
      "[nltk_data] Downloading package punkt to\n",
      "[nltk_data]     C:\\Users\\gksxo\\AppData\\Roaming\\nltk_data...\n",
      "[nltk_data]   Package punkt is already up-to-date!\n",
      "[nltk_data] Downloading package averaged_perceptron_tagger to\n",
      "[nltk_data]     C:\\Users\\gksxo\\AppData\\Roaming\\nltk_data...\n",
      "[nltk_data]   Package averaged_perceptron_tagger is already up-to-\n",
      "[nltk_data]       date!\n",
      "[nltk_data] Downloading package wordnet to\n",
      "[nltk_data]     C:\\Users\\gksxo\\AppData\\Roaming\\nltk_data...\n",
      "[nltk_data]   Package wordnet is already up-to-date!\n",
      "[nltk_data] Downloading package stopwords to\n",
      "[nltk_data]     C:\\Users\\gksxo\\AppData\\Roaming\\nltk_data...\n",
      "[nltk_data]   Package stopwords is already up-to-date!\n"
     ]
    }
   ],
   "source": [
    "import pandas as pd\n",
    "import numpy as np\n",
    "\n",
    "import seaborn as sns\n",
    "import matplotlib.pyplot as plt\n",
    "\n",
    "#text 전처리를 위한 모듈들\n",
    "import re, string\n",
    "import nltk\n",
    "from nltk.tokenize import word_tokenize\n",
    "from nltk.corpus import stopwords\n",
    "from nltk.tokenize import word_tokenize\n",
    "from nltk.stem import SnowballStemmer\n",
    "from nltk.corpus import wordnet\n",
    "from nltk.stem import WordNetLemmatizer\n",
    "\n",
    "nltk.download('punkt')\n",
    "nltk.download('averaged_perceptron_tagger')\n",
    "nltk.download('wordnet')\n",
    "nltk.download('stopwords')\n",
    "\n",
    "#모델\n",
    "from sklearn.model_selection import train_test_split\n",
    "from sklearn.linear_model import LogisticRegression\n",
    "from sklearn.linear_model import SGDClassifier\n",
    "from sklearn.naive_bayes import MultinomialNB\n",
    "from sklearn.metrics import classification_report, f1_score, accuracy_score, confusion_matrix\n",
    "from sklearn.metrics import roc_curve, auc, roc_auc_score\n",
    "from sklearn.ensemble import RandomForestClassifier\n",
    "# bag of words\n",
    "from sklearn.feature_extraction.text import TfidfVectorizer\n",
    "from sklearn.feature_extraction.text import CountVectorizer\n",
    "\n",
    "#for word embedding\n",
    "import gensim\n",
    "from gensim.models import Word2Vec #Word2Vec is mostly used for huge datasets\n"
   ]
  },
  {
   "cell_type": "code",
   "execution_count": 13,
   "metadata": {},
   "outputs": [
    {
     "name": "stdout",
     "output_type": "stream",
     "text": [
      "407.523199023199\n",
      "416.8986289381564\n",
      "2638.7240537240536\n",
      "2335.516554842474\n",
      "222.22649572649573\n",
      "208.16766336056008\n"
     ]
    }
   ],
   "source": [
    "# prompt(text_0 + text_1 에 대한 단어 수, 문자 수, 독특한 단어 수를 재파악 - 아래의 그래프로 표현하기 위함)\n",
    "#1. 단어 수\n",
    "prompt['word_count'] = prompt['text'].apply(lambda x: len(str(x).split()))\n",
    "print(prompt[prompt['label']==1]['word_count'].mean()) #Disaster tweets\n",
    "print(prompt[prompt['label']==0]['word_count'].mean()) #Non-Disaster tweets\n",
    "#Disaster tweets are more wordy than the non-disaster tweets\n",
    "\n",
    "#2. 문자 수\n",
    "prompt['char_count'] = prompt['text'].apply(lambda x: len(str(x)))\n",
    "print(prompt[prompt['label']==1]['char_count'].mean()) #Disaster tweets\n",
    "print(prompt[prompt['label']==0]['char_count'].mean()) #Non-Disaster tweets\n",
    "#Disaster tweets are longer than the non-disaster tweets\n",
    "\n",
    "#3. 독특한 단어 수\n",
    "prompt['unique_word_count'] = prompt['text'].apply(lambda x: len(set(str(x).split())))\n",
    "print(prompt[prompt['label']==1]['unique_word_count'].mean()) #Disaster tweets\n",
    "print(prompt[prompt['label']==0]['unique_word_count'].mean()) #Non-Disaster tweets"
   ]
  },
  {
   "cell_type": "markdown",
   "metadata": {},
   "source": [
    "# tweet 당 단어 수 그래프 그리기"
   ]
  },
  {
   "cell_type": "markdown",
   "metadata": {},
   "source": [
    "1. histplot"
   ]
  },
  {
   "cell_type": "code",
   "execution_count": 14,
   "metadata": {},
   "outputs": [
    {
     "data": {
      "image/png": "[encoded data removed]",
      "text/plain": [
       "<Figure size 1000x400 with 2 Axes>"
      ]
     },
     "metadata": {},
     "output_type": "display_data"
    }
   ],
   "source": [
    "#tweet 당 단어 수 그래프 그리기\n",
    "fig,(ax1,ax2)=plt.subplots(1,2,figsize=(10,4))\n",
    "train_words=prompt[prompt['label']==1]['word_count']\n",
    "ax1.hist(train_words,color='red')\n",
    "ax1.set_title('Disaster tweets')\n",
    "train_words=prompt[prompt['label']==0]['word_count']\n",
    "ax2.hist(train_words,color='green')\n",
    "ax2.set_title('Non-disaster tweets')\n",
    "fig.suptitle('Words per tweet')\n",
    "plt.show()"
   ]
  },
  {
   "cell_type": "markdown",
   "metadata": {},
   "source": [
    "2. violinplot"
   ]
  },
  {
   "cell_type": "code",
   "execution_count": 15,
   "metadata": {},
   "outputs": [
    {
     "data": {
      "image/png": "[encoded data removed]",
      "text/plain": [
       "<Figure size 1000x400 with 2 Axes>"
      ]
     },
     "metadata": {},
     "output_type": "display_data"
    }
   ],
   "source": [
    "fig, (ax1, ax2) = plt.subplots(1, 2, figsize=(10, 4))\n",
    "train_words = prompt[prompt['label'] == 1]['word_count']\n",
    "ax1.violinplot(train_words, vert=False, showmedians=True, widths=0.5)\n",
    "ax1.set_title('Disaster tweets')\n",
    "train_words = prompt[prompt['label'] == 0]['word_count']\n",
    "ax2.violinplot(train_words, vert=False, showmedians=True, widths=0.5)\n",
    "ax2.set_title('Non-disaster tweets')\n",
    "fig.suptitle('Words per tweet')\n",
    "plt.show()\n"
   ]
  },
  {
   "cell_type": "markdown",
   "metadata": {},
   "source": [
    "3. boxplot"
   ]
  },
  {
   "cell_type": "code",
   "execution_count": 16,
   "metadata": {},
   "outputs": [
    {
     "data": {
      "image/png": "[encoded data removed]",
      "text/plain": [
       "<Figure size 1000x400 with 2 Axes>"
      ]
     },
     "metadata": {},
     "output_type": "display_data"
    }
   ],
   "source": [
    "fig, (ax1, ax2) = plt.subplots(1, 2, figsize=(10, 4))\n",
    "train_words = prompt[prompt['label'] == 1]['word_count']\n",
    "ax1.boxplot(train_words, vert=False, widths=0.5, patch_artist=True, boxprops=dict(facecolor='red'))\n",
    "ax1.set_title('Disaster tweets')\n",
    "train_words = prompt[prompt['label'] == 0]['word_count']\n",
    "ax2.boxplot(train_words, vert=False, widths=0.5, patch_artist=True, boxprops=dict(facecolor='green'))\n",
    "ax2.set_title('Non-disaster tweets')\n",
    "fig.suptitle('Words per tweet')\n",
    "plt.show()\n"
   ]
  },
  {
   "cell_type": "markdown",
   "metadata": {},
   "source": [
    "# Preprocessing(텍스트들에 대한 전처리 - NLP(자연어처리)에서 기본적인 텍스트를 분석해서 모델에 집어넣기 전에 하는 불용어,어간,표제어 등의 처리)"
   ]
  },
  {
   "cell_type": "code",
   "execution_count": null,
   "metadata": {},
   "outputs": [
    {
     "name": "stdout",
     "output_type": "stream",
     "text": [
      "this is a message to be cleaned it may involve some things like adjacent spaces and tabs\n"
     ]
    }
   ],
   "source": [
    "#1. Common text preprocessing\n",
    "text = \"   This is a message to be cleaned. It may involve some things like: <br>, ?, :, ''  adjacent spaces and tabs     .  \"\n",
    "\n",
    "#소문자로 변환하고 구두점과 문자를 제거한 후 공백 제거\n",
    "def preprocess(text):\n",
    "    text = text.lower() #텍스트를 소문자로 변환\n",
    "    text=text.strip()  #앞뒤 공백 제거 \n",
    "    text=re.compile('<.*?>').sub('', text) #HTML 태그/마크업 제거\n",
    "    text = re.compile('[%s]' % re.escape(string.punctuation)).sub(' ', text)  #구두점을 공백으로 대체. 구두점이 때때로 유용할 수 있으니 주의    \n",
    "    text = re.sub('\\s+', ' ', text)  #여분의 공백과 탭 제거\n",
    "    text = re.sub(r'\\[[0-9]*\\]',' ',text) #[0-9]는 모든 숫자(0부터 10000까지)를 매치\n",
    "    text=re.sub(r'[^\\w\\s]', '', str(text).lower().strip())\n",
    "    text = re.sub(r'\\d',' ',text) #\\d는 모든 숫자를 매치, \\D는 숫자가 아닌 것을 매치\n",
    "    text = re.sub(r'\\s+',' ',text) #\\s는 모든 공백을 매치, \\s+는 여러 공백을 매치, \\S는 공백이 아닌 것을 매치 \n",
    "    \n",
    "    return text\n",
    "\n",
    "text=preprocess(text)\n",
    "print(text)  #text는 문자열"
   ]
  },
  {
   "cell_type": "code",
   "execution_count": null,
   "metadata": {},
   "outputs": [
    {
     "name": "stdout",
     "output_type": "stream",
     "text": [
      "message cleaned may involve things like adjacent spaces tabs\n",
      "messag clean may involv thing like adjac space tab\n",
      "messag clean may involv thing like adjac space tab\n"
     ]
    }
   ],
   "source": [
    "#3. LEXICON-BASED TEXT PROCESSING\n",
    " \n",
    "#1. STOPWORD REMOVAL(불용어 제거)\n",
    "def stopword(string):\n",
    "    a= [i for i in string.split() if i not in stopwords.words('english')]\n",
    "    return ' '.join(a)\n",
    "\n",
    "text=stopword(text)\n",
    "print(text)\n",
    "\n",
    "#2. STEMMING(어간 추출)\n",
    " \n",
    "# Initialize the stemmer(어간 추출기 초기화)\n",
    "snow = SnowballStemmer('english')\n",
    "def stemming(string):\n",
    "    a=[snow.stem(i) for i in word_tokenize(string) ]\n",
    "    return \" \".join(a)\n",
    "text=stemming(text)\n",
    "print(text)\n",
    "\n",
    "#3. LEMMATIZATION(표제어 추출)\n",
    "# Initialize the lemmatizer(표제어 추출기 초기화)\n",
    "wl = WordNetLemmatizer()\n",
    " \n",
    "\n",
    "def get_wordnet_pos(tag):\n",
    "    if tag.startswith('J'):\n",
    "        return wordnet.ADJ\n",
    "    elif tag.startswith('V'):\n",
    "        return wordnet.VERB\n",
    "    elif tag.startswith('N'):\n",
    "        return wordnet.NOUN\n",
    "    elif tag.startswith('R'):\n",
    "        return wordnet.ADV\n",
    "    else:\n",
    "        return wordnet.NOUN\n",
    "\n",
    "# Tokenize the sentence(문장 토큰화)\n",
    "def lemmatizer(string):\n",
    "    word_pos_tags = nltk.pos_tag(word_tokenize(string)) #위치 태그 가져오기\n",
    "    a=[wl.lemmatize(tag[0], get_wordnet_pos(tag[1])) for idx, tag in enumerate(word_pos_tags)] # 위치 태그를 매핑하고 단어/토큰을 표제어 추출\n",
    "    return \" \".join(a)\n",
    "\n",
    "text = lemmatizer(text)\n",
    "print(text)"
   ]
  },
  {
   "cell_type": "code",
   "execution_count": null,
   "metadata": {},
   "outputs": [
    {
     "data": {
      "text/html": [
       "<div>\n",
       "<style scoped>\n",
       "    .dataframe tbody tr th:only-of-type {\n",
       "        vertical-align: middle;\n",
       "    }\n",
       "\n",
       "    .dataframe tbody tr th {\n",
       "        vertical-align: top;\n",
       "    }\n",
       "\n",
       "    .dataframe thead th {\n",
       "        text-align: right;\n",
       "    }\n",
       "</style>\n",
       "<table border=\"1\" class=\"dataframe\">\n",
       "  <thead>\n",
       "    <tr style=\"text-align: right;\">\n",
       "      <th></th>\n",
       "      <th>text</th>\n",
       "      <th>label</th>\n",
       "      <th>clean_text</th>\n",
       "    </tr>\n",
       "  </thead>\n",
       "  <tbody>\n",
       "    <tr>\n",
       "      <th>0</th>\n",
       "      <td>Cars. Cars have been around since they became ...</td>\n",
       "      <td>0</td>\n",
       "      <td>car car around since become famous henry ford ...</td>\n",
       "    </tr>\n",
       "    <tr>\n",
       "      <th>1</th>\n",
       "      <td>Transportation is a large necessity in most co...</td>\n",
       "      <td>0</td>\n",
       "      <td>transportation large necessity country worldwi...</td>\n",
       "    </tr>\n",
       "    <tr>\n",
       "      <th>2</th>\n",
       "      <td>\"America's love affair with it's vehicles seem...</td>\n",
       "      <td>0</td>\n",
       "      <td>america love affair vehicle seem cool say elis...</td>\n",
       "    </tr>\n",
       "    <tr>\n",
       "      <th>3</th>\n",
       "      <td>How often do you ride in a car? Do you drive a...</td>\n",
       "      <td>0</td>\n",
       "      <td>often ride car drive one motor vehicle work st...</td>\n",
       "    </tr>\n",
       "    <tr>\n",
       "      <th>4</th>\n",
       "      <td>Cars are a wonderful thing. They are perhaps o...</td>\n",
       "      <td>0</td>\n",
       "      <td>car wonderful thing perhaps one world great ad...</td>\n",
       "    </tr>\n",
       "  </tbody>\n",
       "</table>\n",
       "</div>"
      ],
      "text/plain": [
       "                                                text  label  \\\n",
       "0  Cars. Cars have been around since they became ...      0   \n",
       "1  Transportation is a large necessity in most co...      0   \n",
       "2  \"America's love affair with it's vehicles seem...      0   \n",
       "3  How often do you ride in a car? Do you drive a...      0   \n",
       "4  Cars are a wonderful thing. They are perhaps o...      0   \n",
       "\n",
       "                                          clean_text  \n",
       "0  car car around since become famous henry ford ...  \n",
       "1  transportation large necessity country worldwi...  \n",
       "2  america love affair vehicle seem cool say elis...  \n",
       "3  often ride car drive one motor vehicle work st...  \n",
       "4  car wonderful thing perhaps one world great ad...  "
      ]
     },
     "execution_count": 25,
     "metadata": {},
     "output_type": "execute_result"
    }
   ],
   "source": [
    "#FINAL PREPROCESSING\n",
    "def finalpreprocess(string):\n",
    "    return lemmatizer(stopword(preprocess(string)))\n",
    "\n",
    "prompt['clean_text'] = prompt['text'].apply(lambda x: finalpreprocess(x))\n",
    "prompt=prompt.drop(columns=['word_count','char_count','unique_word_count'])\n",
    "prompt.head()"
   ]
  },
  {
   "cell_type": "code",
   "execution_count": null,
   "metadata": {},
   "outputs": [],
   "source": [
    "# create Word2vec model(Word2vec 모델 생성)\n",
    "# 여기서 words_f는 각 문서에서 단어를 포함하는 리스트여야 합니다. 예를 들어, 리스트의 첫 번째 행은 첫 번째 문서/문장의 단어입니다.\n",
    "# words_f의 길이는 데이터셋의 문서/문장 수입니다.\n",
    "prompt['clean_text_tok']=[nltk.word_tokenize(i) for i in prompt['clean_text']] #전처리된 문장을 토큰화된 문장으로 변환\n",
    "model = Word2Vec(prompt['clean_text_tok'],min_count=1)  # min_count=1은 단어가 모든 문서에서 최소한 한 번은 나타나야 한다는 의미입니다.\n",
    "# if min_count=2은 단어가 모든 문서에서 두 번 미만으로 나타나면 고려하지 않아야 한다는 의미입니다.\n",
    "\n",
    "\n",
    "w2v = dict(zip(model.wv.index_to_key, model.wv.vectors))  #단어와 그 벡터의 조합\n",
    "\n",
    "# Word2Vec의 결과인 단어 벡터에서 문장을 벡터/숫자로 변환하기 위한 클래스\n",
    "class MeanEmbeddingVectorizer(object):\n",
    "    def __init__(self, word2vec):\n",
    "        self.word2vec = word2vec\n",
    "        # 텍스트가 비어 있으면 다른 모든 벡터와 동일한 차원의 0 벡터를 반환해야 합니다.\n",
    "        self.dim = len(next(iter(word2vec.values())))\n",
    "\n",
    "    def fit(self, X, y):\n",
    "        return self\n",
    "\n",
    "    def transform(self, X):\n",
    "        return np.array([\n",
    "            np.mean([self.word2vec[w] for w in words if w in self.word2vec]\n",
    "                    or [np.zeros(self.dim)], axis=0)\n",
    "            for words in X\n",
    "        ])"
   ]
  },
  {
   "cell_type": "code",
   "execution_count": null,
   "metadata": {},
   "outputs": [],
   "source": [
    "# 학습 데이터셋을 학습 및 검증용으로 분리하기\n",
    " \n",
    "# 입력: \"clean_text\",\n",
    "# 타겟: \"label\"\n",
    "X_train, X_val, y_train, y_val = train_test_split(prompt[\"clean_text\"],\n",
    "                                                  prompt[\"label\"],\n",
    "                                                  test_size=0.2,\n",
    "                                                  shuffle=True)\n",
    "X_train_tok= [nltk.word_tokenize(i) for i in X_train]\n",
    "X_val_tok= [nltk.word_tokenize(i) for i in X_val]     \n",
    "\n",
    "#TF-IDF\n",
    "# 모델은 숫자로만 실행할 수 있으므로 x_train을 벡터로 변환하고 단어를 이용 - Fit and transform\n",
    "tfidf_vectorizer = TfidfVectorizer(use_idf=True)\n",
    "X_train_vectors_tfidf = tfidf_vectorizer.fit_transform(X_train) #tfidf는 word2vec와 달리 토큰화되지 않은 문장에서 실행\n",
    "# x_test만 변환합니다 (fit and transform이 아님)\n",
    "X_val_vectors_tfidf = tfidf_vectorizer.transform(X_val)\n",
    "\n",
    "#Word2vec\n",
    "# Fit and transform\n",
    "modelw = MeanEmbeddingVectorizer(w2v)\n",
    "X_train_vectors_w2v = modelw.transform(X_train_tok)\n",
    "X_val_vectors_w2v = modelw.transform(X_val_tok)"
   ]
  },
  {
   "cell_type": "code",
   "execution_count": null,
   "metadata": {},
   "outputs": [
    {
     "name": "stdout",
     "output_type": "stream",
     "text": [
      "              precision    recall  f1-score   support\n",
      "\n",
      "           0       1.00      1.00      1.00      2750\n",
      "           1       1.00      0.99      0.99       320\n",
      "\n",
      "    accuracy                           1.00      3070\n",
      "   macro avg       1.00      1.00      1.00      3070\n",
      "weighted avg       1.00      1.00      1.00      3070\n",
      "\n",
      "Confusion Matrix: [[2749    1]\n",
      " [   3  317]]\n",
      "AUC: 0.9999715909090909\n"
     ]
    }
   ],
   "source": [
    "#로지스틱 회귀를 사용하여 분류 모델 적합(tf-idf)\n",
    "\n",
    "lr_tfidf=LogisticRegression(solver = 'liblinear', C=10, penalty = 'l2')\n",
    "lr_tfidf.fit(X_train_vectors_tfidf, y_train)  #model\n",
    "\n",
    "#테스트 데이터셋에 대한 y 값을 예측\n",
    "y_predict = lr_tfidf.predict(X_val_vectors_tfidf)\n",
    "y_prob = lr_tfidf.predict_proba(X_val_vectors_tfidf)[:,1]\n",
    "\n",
    "\n",
    "print(classification_report(y_val,y_predict))\n",
    "print('Confusion Matrix:',confusion_matrix(y_val, y_predict))\n",
    " \n",
    "fpr, tpr, thresholds = roc_curve(y_val, y_prob)\n",
    "roc_auc = auc(fpr, tpr)\n",
    "print('AUC:', roc_auc)  "
   ]
  }
 ],
 "metadata": {
  "kernelspec": {
   "display_name": "Python 3",
   "language": "python",
   "name": "python3"
  },
  "language_info": {
   "codemirror_mode": {
    "name": "ipython",
    "version": 3
   },
   "file_extension": ".py",
   "mimetype": "text/x-python",
   "name": "python",
   "nbconvert_exporter": "python",
   "pygments_lexer": "ipython3",
   "version": "3.11.1"
  }
 },
 "nbformat": 4,
 "nbformat_minor": 2
}
